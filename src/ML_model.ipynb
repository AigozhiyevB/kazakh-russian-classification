{
 "cells": [
  {
   "cell_type": "code",
   "execution_count": 1,
   "id": "fb0a635b",
   "metadata": {},
   "outputs": [],
   "source": [
    "import numpy as np \n",
    "import pandas as pd\n",
    "import matplotlib.pyplot as plt\n",
    "import seaborn as sns\n",
    "from sklearn.model_selection import train_test_split\n",
    "from sklearn.linear_model import LogisticRegression\n",
    "from sklearn.svm import SVC \n",
    "from sklearn.ensemble import RandomForestClassifier \n",
    "from sklearn.metrics import roc_auc_score \n",
    "from sklearn.metrics import accuracy_score  \n",
    "from sklearn.metrics import recall_score \n",
    "from sklearn.metrics import precision_score\n",
    "from sklearn.metrics import classification_report \n",
    "%matplotlib inline "
   ]
  },
  {
   "cell_type": "code",
   "execution_count": 18,
   "id": "4ae5421c",
   "metadata": {},
   "outputs": [
    {
     "data": {
      "text/html": [
       "<div>\n",
       "<style scoped>\n",
       "    .dataframe tbody tr th:only-of-type {\n",
       "        vertical-align: middle;\n",
       "    }\n",
       "\n",
       "    .dataframe tbody tr th {\n",
       "        vertical-align: top;\n",
       "    }\n",
       "\n",
       "    .dataframe thead th {\n",
       "        text-align: right;\n",
       "    }\n",
       "</style>\n",
       "<table border=\"1\" class=\"dataframe\">\n",
       "  <thead>\n",
       "    <tr style=\"text-align: right;\">\n",
       "      <th></th>\n",
       "      <th>context1</th>\n",
       "      <th>y</th>\n",
       "    </tr>\n",
       "  </thead>\n",
       "  <tbody>\n",
       "    <tr>\n",
       "      <th>0</th>\n",
       "      <td>по утрам она очищает бога солнца ра перед его ...</td>\n",
       "      <td>0</td>\n",
       "    </tr>\n",
       "    <tr>\n",
       "      <th>1</th>\n",
       "      <td>net activity diagram производит глубокий анали...</td>\n",
       "      <td>0</td>\n",
       "    </tr>\n",
       "    <tr>\n",
       "      <th>2</th>\n",
       "      <td>сталь ная обшивка корпуса положенная край на к...</td>\n",
       "      <td>0</td>\n",
       "    </tr>\n",
       "    <tr>\n",
       "      <th>3</th>\n",
       "      <td>перекрывающие крючковидные отростки рёбер  при...</td>\n",
       "      <td>0</td>\n",
       "    </tr>\n",
       "    <tr>\n",
       "      <th>4</th>\n",
       "      <td>некоторые из известных приближений к резонанса...</td>\n",
       "      <td>0</td>\n",
       "    </tr>\n",
       "    <tr>\n",
       "      <th>...</th>\n",
       "      <td>...</td>\n",
       "      <td>...</td>\n",
       "    </tr>\n",
       "    <tr>\n",
       "      <th>9390</th>\n",
       "      <td>самый пожилой исполнитель  возглавивший хит  п...</td>\n",
       "      <td>0</td>\n",
       "    </tr>\n",
       "    <tr>\n",
       "      <th>9391</th>\n",
       "      <td>сахара  минеральные соли  сера  кальций  калий...</td>\n",
       "      <td>0</td>\n",
       "    </tr>\n",
       "    <tr>\n",
       "      <th>9392</th>\n",
       "      <td>бірде сағат ағаның ақиқатқа іңкәрлік деген жин...</td>\n",
       "      <td>1</td>\n",
       "    </tr>\n",
       "    <tr>\n",
       "      <th>9393</th>\n",
       "      <td>низовая часть гребня с отметкой и шириной пред...</td>\n",
       "      <td>0</td>\n",
       "    </tr>\n",
       "    <tr>\n",
       "      <th>9394</th>\n",
       "      <td>неміс болды бізге қас</td>\n",
       "      <td>1</td>\n",
       "    </tr>\n",
       "  </tbody>\n",
       "</table>\n",
       "<p>9360 rows × 2 columns</p>\n",
       "</div>"
      ],
      "text/plain": [
       "                                               context1  y\n",
       "0     по утрам она очищает бога солнца ра перед его ...  0\n",
       "1     net activity diagram производит глубокий анали...  0\n",
       "2     сталь ная обшивка корпуса положенная край на к...  0\n",
       "3     перекрывающие крючковидные отростки рёбер  при...  0\n",
       "4     некоторые из известных приближений к резонанса...  0\n",
       "...                                                 ... ..\n",
       "9390  самый пожилой исполнитель  возглавивший хит  п...  0\n",
       "9391  сахара  минеральные соли  сера  кальций  калий...  0\n",
       "9392  бірде сағат ағаның ақиқатқа іңкәрлік деген жин...  1\n",
       "9393  низовая часть гребня с отметкой и шириной пред...  0\n",
       "9394                              неміс болды бізге қас  1\n",
       "\n",
       "[9360 rows x 2 columns]"
      ]
     },
     "execution_count": 18,
     "metadata": {},
     "output_type": "execute_result"
    }
   ],
   "source": [
    "df = pd.read_csv('../data/final.csv')\n",
    "df = df.dropna()\n",
    "df"
   ]
  },
  {
   "cell_type": "code",
   "execution_count": 9,
   "id": "4dfa1005",
   "metadata": {},
   "outputs": [
    {
     "data": {
      "text/plain": [
       "0    3746\n",
       "1    3300\n",
       "Name: y, dtype: int64"
      ]
     },
     "execution_count": 9,
     "metadata": {},
     "output_type": "execute_result"
    }
   ],
   "source": [
    "X = df.drop(columns = ['y'])\n",
    "y = df['y'].to_frame()\n",
    "#X_train, X_test, y_train, y_test = train_test_split(X, y, test_size=0.25, random_state=42)\n"
   ]
  },
  {
   "cell_type": "code",
   "execution_count": 19,
   "id": "6e4db219",
   "metadata": {},
   "outputs": [
    {
     "data": {
      "text/html": [
       "<div>\n",
       "<style scoped>\n",
       "    .dataframe tbody tr th:only-of-type {\n",
       "        vertical-align: middle;\n",
       "    }\n",
       "\n",
       "    .dataframe tbody tr th {\n",
       "        vertical-align: top;\n",
       "    }\n",
       "\n",
       "    .dataframe thead th {\n",
       "        text-align: right;\n",
       "    }\n",
       "</style>\n",
       "<table border=\"1\" class=\"dataframe\">\n",
       "  <thead>\n",
       "    <tr style=\"text-align: right;\">\n",
       "      <th></th>\n",
       "      <th>context1</th>\n",
       "    </tr>\n",
       "  </thead>\n",
       "  <tbody>\n",
       "    <tr>\n",
       "      <th>0</th>\n",
       "      <td>по утрам она очищает бога солнца ра перед его ...</td>\n",
       "    </tr>\n",
       "    <tr>\n",
       "      <th>1</th>\n",
       "      <td>net activity diagram производит глубокий анали...</td>\n",
       "    </tr>\n",
       "    <tr>\n",
       "      <th>2</th>\n",
       "      <td>сталь ная обшивка корпуса положенная край на к...</td>\n",
       "    </tr>\n",
       "    <tr>\n",
       "      <th>3</th>\n",
       "      <td>перекрывающие крючковидные отростки рёбер  при...</td>\n",
       "    </tr>\n",
       "    <tr>\n",
       "      <th>4</th>\n",
       "      <td>некоторые из известных приближений к резонанса...</td>\n",
       "    </tr>\n",
       "    <tr>\n",
       "      <th>...</th>\n",
       "      <td>...</td>\n",
       "    </tr>\n",
       "    <tr>\n",
       "      <th>9390</th>\n",
       "      <td>самый пожилой исполнитель  возглавивший хит  п...</td>\n",
       "    </tr>\n",
       "    <tr>\n",
       "      <th>9391</th>\n",
       "      <td>сахара  минеральные соли  сера  кальций  калий...</td>\n",
       "    </tr>\n",
       "    <tr>\n",
       "      <th>9392</th>\n",
       "      <td>бірде сағат ағаның ақиқатқа іңкәрлік деген жин...</td>\n",
       "    </tr>\n",
       "    <tr>\n",
       "      <th>9393</th>\n",
       "      <td>низовая часть гребня с отметкой и шириной пред...</td>\n",
       "    </tr>\n",
       "    <tr>\n",
       "      <th>9394</th>\n",
       "      <td>неміс болды бізге қас</td>\n",
       "    </tr>\n",
       "  </tbody>\n",
       "</table>\n",
       "<p>9395 rows × 1 columns</p>\n",
       "</div>"
      ],
      "text/plain": [
       "                                               context1\n",
       "0     по утрам она очищает бога солнца ра перед его ...\n",
       "1     net activity diagram производит глубокий анали...\n",
       "2     сталь ная обшивка корпуса положенная край на к...\n",
       "3     перекрывающие крючковидные отростки рёбер  при...\n",
       "4     некоторые из известных приближений к резонанса...\n",
       "...                                                 ...\n",
       "9390  самый пожилой исполнитель  возглавивший хит  п...\n",
       "9391  сахара  минеральные соли  сера  кальций  калий...\n",
       "9392  бірде сағат ағаның ақиқатқа іңкәрлік деген жин...\n",
       "9393  низовая часть гребня с отметкой и шириной пред...\n",
       "9394                              неміс болды бізге қас\n",
       "\n",
       "[9395 rows x 1 columns]"
      ]
     },
     "execution_count": 19,
     "metadata": {},
     "output_type": "execute_result"
    }
   ],
   "source": [
    "X"
   ]
  },
  {
   "cell_type": "code",
   "execution_count": 21,
   "id": "72a8c5ab",
   "metadata": {},
   "outputs": [],
   "source": [
    "from sklearn.pipeline import Pipeline\n",
    "from sklearn.feature_extraction.text import TfidfTransformer\n",
    "from sklearn.feature_extraction.text import CountVectorizer\n"
   ]
  },
  {
   "cell_type": "code",
   "execution_count": 26,
   "id": "5a2bfdc3",
   "metadata": {},
   "outputs": [
    {
     "data": {
      "text/plain": [
       "array(['по утрам она очищает бога солнца ра перед его дневным путешествием по небу  её мужем был бог плодородия  мин  ей и её мужу поклонялись в столице   го нома верхнего египта панополе ',\n",
       "       'net activity diagram производит глубокий анализ и  мониторинг текущей активности работы в интернет е  имеет полную поддержку протоколов tcp и udp  а также ведёт строгий учёт количества переданных данных по этим протоколам  отслеживая весь входящий и исходящий трафик ',\n",
       "       'сталь ная обшивка корпуса положенная край на край скреплялась заклёпками в один ряд  а стыки двойным рядом  толщина обшивки разнилась  от    до    и    дюйма  стальной фальшборт имел толщину    дюйма ',\n",
       "       ...,\n",
       "       'бірде сағат ағаның ақиқатқа іңкәрлік деген жинағын оқып отырып мынадай жолдарға тап болдым біз сыншылар ақынжазушыларымыздың әртүрлі жастағы юбилейлерін күтіп отырмайақ творчестволық өмірбаянын портретін өсу эволюциясын стильдік паспортын әкелген жаңалықтарын тіпті адамдық болмысын дүркіндүркін оқушыларға жеткізіп таныстырып отыруымыз керек бет мақала алғаш рет сын мен сүйіспеншілік деген тақырыппен социалистік қазақстан газетінің  жылғы  наурыз күнгі санында жарияланған екен',\n",
       "       'низовая часть гребня с отметкой и шириной предназначена для технологического автодорожного проезда через плотину  с правого берега подъезд к гребню плотины осуществляется по открытой автодороге  с левого берега  по  тоннелю длиной и далее также по открытой автодороге вдоль ору  плотина саяно  шушенской гэс является самой высокой в россии и находится на седьмом месте среди существующих плотин в мире  кроме того  она является самой высокой в мире плотиной арочно  гравитационного типа ',\n",
       "       'неміс болды бізге қас'], dtype='<U2369')"
      ]
     },
     "execution_count": 26,
     "metadata": {},
     "output_type": "execute_result"
    }
   ],
   "source": [
    "X.context1.values.astype('U')"
   ]
  },
  {
   "cell_type": "code",
   "execution_count": 88,
   "id": "65336394",
   "metadata": {},
   "outputs": [
    {
     "data": {
      "text/plain": [
       "(9395, 359904)"
      ]
     },
     "execution_count": 88,
     "metadata": {},
     "output_type": "execute_result"
    }
   ],
   "source": [
    "count_vect = CountVectorizer(ngram_range=(1,2))\n",
    "X_counts = count_vect.fit_transform(X.context1.values.astype('U'))\n",
    "X_counts.shape"
   ]
  },
  {
   "cell_type": "code",
   "execution_count": 89,
   "id": "10e6ecfb",
   "metadata": {},
   "outputs": [
    {
     "data": {
      "text/plain": [
       "(9395, 359904)"
      ]
     },
     "execution_count": 89,
     "metadata": {},
     "output_type": "execute_result"
    }
   ],
   "source": [
    "tf_transformer = TfidfTransformer().fit(X_counts)\n",
    "X_tf = tf_transformer.transform(X_counts)\n",
    "X_tf.shape"
   ]
  },
  {
   "cell_type": "code",
   "execution_count": 90,
   "id": "49b2c61e",
   "metadata": {},
   "outputs": [
    {
     "data": {
      "text/plain": [
       "<7046x359904 sparse matrix of type '<class 'numpy.float64'>'\n",
       "\twith 468519 stored elements in Compressed Sparse Row format>"
      ]
     },
     "execution_count": 90,
     "metadata": {},
     "output_type": "execute_result"
    }
   ],
   "source": [
    "X_train, X_test, y_train, y_test = train_test_split(X_tf, y, test_size=0.25, random_state=42)\n",
    "X_train"
   ]
  },
  {
   "cell_type": "code",
   "execution_count": 91,
   "id": "b03c1540",
   "metadata": {},
   "outputs": [
    {
     "name": "stderr",
     "output_type": "stream",
     "text": [
      "/home/bakhtiyar/.local/lib/python3.8/site-packages/sklearn/utils/validation.py:993: DataConversionWarning: A column-vector y was passed when a 1d array was expected. Please change the shape of y to (n_samples, ), for example using ravel().\n",
      "  y = column_or_1d(y, warn=True)\n"
     ]
    },
    {
     "data": {
      "text/plain": [
       "SVC()"
      ]
     },
     "execution_count": 91,
     "metadata": {},
     "output_type": "execute_result"
    }
   ],
   "source": [
    "model = SVC()\n",
    "model.fit(X_train, y_train)"
   ]
  },
  {
   "cell_type": "code",
   "execution_count": 92,
   "id": "0a313c40",
   "metadata": {},
   "outputs": [
    {
     "name": "stdout",
     "output_type": "stream",
     "text": [
      "0.9940400170285227\n"
     ]
    }
   ],
   "source": [
    "print(accuracy_score(model.predict(X_test), y_test))"
   ]
  },
  {
   "cell_type": "code",
   "execution_count": 98,
   "id": "bba03b59",
   "metadata": {},
   "outputs": [
    {
     "data": {
      "text/plain": [
       "array([1])"
      ]
     },
     "execution_count": 98,
     "metadata": {},
     "output_type": "execute_result"
    }
   ],
   "source": [
    "test = ['ассалам']\n",
    "count_test = count_vect.transform(test)\n",
    "test_tf = tf_transformer.transform(count_test)\n",
    "test_pred = model.predict(test_tf)\n",
    "test_pred"
   ]
  },
  {
   "cell_type": "code",
   "execution_count": 99,
   "id": "29863e84",
   "metadata": {},
   "outputs": [
    {
     "data": {
      "text/plain": [
       "{'analyzer': 'word',\n",
       " 'binary': False,\n",
       " 'decode_error': 'strict',\n",
       " 'dtype': numpy.int64,\n",
       " 'encoding': 'utf-8',\n",
       " 'input': 'content',\n",
       " 'lowercase': True,\n",
       " 'max_df': 1.0,\n",
       " 'max_features': None,\n",
       " 'min_df': 1,\n",
       " 'ngram_range': (1, 2),\n",
       " 'preprocessor': None,\n",
       " 'stop_words': None,\n",
       " 'strip_accents': None,\n",
       " 'token_pattern': '(?u)\\\\b\\\\w\\\\w+\\\\b',\n",
       " 'tokenizer': None,\n",
       " 'vocabulary': None}"
      ]
     },
     "execution_count": 99,
     "metadata": {},
     "output_type": "execute_result"
    }
   ],
   "source": [
    "count_vect.get_params()"
   ]
  },
  {
   "cell_type": "code",
   "execution_count": 100,
   "id": "0b128efa",
   "metadata": {},
   "outputs": [],
   "source": [
    "X_train_2, X_test_2, y_train_2, y_test_2 = train_test_split(\n",
    "    X.context1.values.astype('U'), y, test_size=0.25, random_state=24)"
   ]
  },
  {
   "cell_type": "code",
   "execution_count": 108,
   "id": "f0a6a913",
   "metadata": {},
   "outputs": [],
   "source": [
    "piple = Pipeline([\n",
    "    ('vect', CountVectorizer(ngram_range=(1,2))),\n",
    "    ('tfidf', TfidfTransformer()),\n",
    "    ('classifier', SVC(kernel='linear'))])\n"
   ]
  },
  {
   "cell_type": "code",
   "execution_count": 109,
   "id": "216d0d88",
   "metadata": {},
   "outputs": [
    {
     "name": "stderr",
     "output_type": "stream",
     "text": [
      "/home/bakhtiyar/.local/lib/python3.8/site-packages/sklearn/utils/validation.py:993: DataConversionWarning: A column-vector y was passed when a 1d array was expected. Please change the shape of y to (n_samples, ), for example using ravel().\n",
      "  y = column_or_1d(y, warn=True)\n"
     ]
    },
    {
     "data": {
      "text/plain": [
       "Pipeline(steps=[('vect', CountVectorizer(ngram_range=(1, 2))),\n",
       "                ('tfidf', TfidfTransformer()),\n",
       "                ('classifier', SVC(kernel='linear'))])"
      ]
     },
     "execution_count": 109,
     "metadata": {},
     "output_type": "execute_result"
    }
   ],
   "source": [
    "piple.fit(X_train_2, y_train_2)"
   ]
  },
  {
   "cell_type": "code",
   "execution_count": 110,
   "id": "49f22703",
   "metadata": {},
   "outputs": [],
   "source": [
    "y_pred_2 = piple.predict(X_test_2)"
   ]
  },
  {
   "cell_type": "code",
   "execution_count": 111,
   "id": "b50aac0c",
   "metadata": {},
   "outputs": [
    {
     "name": "stdout",
     "output_type": "stream",
     "text": [
      "0.9978714346530438\n"
     ]
    }
   ],
   "source": [
    "print(accuracy_score(y_pred_2, y_test_2))"
   ]
  },
  {
   "cell_type": "code",
   "execution_count": 132,
   "id": "dad40ad8",
   "metadata": {},
   "outputs": [
    {
     "data": {
      "text/plain": [
       "array([1])"
      ]
     },
     "execution_count": 132,
     "metadata": {},
     "output_type": "execute_result"
    }
   ],
   "source": [
    "sent = ['ол адам']\n",
    "piple.predict(sent)"
   ]
  },
  {
   "cell_type": "code",
   "execution_count": 136,
   "id": "7e9c97d2",
   "metadata": {},
   "outputs": [],
   "source": [
    "import joblib"
   ]
  },
  {
   "cell_type": "code",
   "execution_count": 138,
   "id": "cae3d071",
   "metadata": {},
   "outputs": [
    {
     "data": {
      "text/plain": [
       "['../bin/sklearn_model_first.pkl']"
      ]
     },
     "execution_count": 138,
     "metadata": {},
     "output_type": "execute_result"
    }
   ],
   "source": [
    "joblib.dump(piple, '../bin/sklearn_model_first.pkl')"
   ]
  }
 ],
 "metadata": {
  "kernelspec": {
   "display_name": "Python 3 (ipykernel)",
   "language": "python",
   "name": "python3"
  },
  "language_info": {
   "codemirror_mode": {
    "name": "ipython",
    "version": 3
   },
   "file_extension": ".py",
   "mimetype": "text/x-python",
   "name": "python",
   "nbconvert_exporter": "python",
   "pygments_lexer": "ipython3",
   "version": "3.8.10"
  }
 },
 "nbformat": 4,
 "nbformat_minor": 5
}
