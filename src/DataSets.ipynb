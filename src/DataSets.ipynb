{
 "cells": [
  {
   "cell_type": "code",
   "execution_count": 11,
   "id": "312684ba",
   "metadata": {},
   "outputs": [],
   "source": [
    "import numpy as np # linear algebra\n",
    "import pandas as pd # data processing, CSV file I/O (e.g. pd.read_csv)\n",
    "import re"
   ]
  },
  {
   "cell_type": "code",
   "execution_count": 10,
   "id": "e0346594",
   "metadata": {},
   "outputs": [
    {
     "data": {
      "text/html": [
       "<div>\n",
       "<style scoped>\n",
       "    .dataframe tbody tr th:only-of-type {\n",
       "        vertical-align: middle;\n",
       "    }\n",
       "\n",
       "    .dataframe tbody tr th {\n",
       "        vertical-align: top;\n",
       "    }\n",
       "\n",
       "    .dataframe thead th {\n",
       "        text-align: right;\n",
       "    }\n",
       "</style>\n",
       "<table border=\"1\" class=\"dataframe\">\n",
       "  <thead>\n",
       "    <tr style=\"text-align: right;\">\n",
       "      <th></th>\n",
       "      <th>context1</th>\n",
       "    </tr>\n",
       "  </thead>\n",
       "  <tbody>\n",
       "    <tr>\n",
       "      <th>0</th>\n",
       "      <td>&lt;word&gt;Өркен&lt;/word&gt; - өсімдіктің негізгі бөлігі...</td>\n",
       "    </tr>\n",
       "    <tr>\n",
       "      <th>1</th>\n",
       "      <td>Осы зиянкестердің санын бірден - бір негізгі р...</td>\n",
       "    </tr>\n",
       "    <tr>\n",
       "      <th>2</th>\n",
       "      <td>Олар : « Вокал студиясы », « Ағылшын тілінде д...</td>\n",
       "    </tr>\n",
       "    <tr>\n",
       "      <th>3</th>\n",
       "      <td>Хайльбронн () — Германия ауданы . Аудан орталы...</td>\n",
       "    </tr>\n",
       "    <tr>\n",
       "      <th>4</th>\n",
       "      <td>Теңіз ірбісі , теңіз қабыланы () – нағыз итбал...</td>\n",
       "    </tr>\n",
       "    <tr>\n",
       "      <th>...</th>\n",
       "      <td>...</td>\n",
       "    </tr>\n",
       "    <tr>\n",
       "      <th>672</th>\n",
       "      <td>« Құрмет белгісі » ( 1981 ), II дәрежелі «  &lt;w...</td>\n",
       "    </tr>\n",
       "    <tr>\n",
       "      <th>673</th>\n",
       "      <td>cloud computing ) қажетті конфигурацияланған е...</td>\n",
       "    </tr>\n",
       "    <tr>\n",
       "      <th>674</th>\n",
       "      <td>Аудан жерімен Жақсы Қарғалы ,  &lt;word&gt;Ор&lt;/word&gt;...</td>\n",
       "    </tr>\n",
       "    <tr>\n",
       "      <th>675</th>\n",
       "      <td>Ауыл 1962 – 96 ж . етті ірі қара мал өсіретін ...</td>\n",
       "    </tr>\n",
       "    <tr>\n",
       "      <th>676</th>\n",
       "      <td>Мұхаммедтің толық аты былай : Әбул Қасым Мұхам...</td>\n",
       "    </tr>\n",
       "  </tbody>\n",
       "</table>\n",
       "<p>677 rows × 1 columns</p>\n",
       "</div>"
      ],
      "text/plain": [
       "                                              context1\n",
       "0    <word>Өркен</word> - өсімдіктің негізгі бөлігі...\n",
       "1    Осы зиянкестердің санын бірден - бір негізгі р...\n",
       "2    Олар : « Вокал студиясы », « Ағылшын тілінде д...\n",
       "3    Хайльбронн () — Германия ауданы . Аудан орталы...\n",
       "4    Теңіз ірбісі , теңіз қабыланы () – нағыз итбал...\n",
       "..                                                 ...\n",
       "672  « Құрмет белгісі » ( 1981 ), II дәрежелі «  <w...\n",
       "673  cloud computing ) қажетті конфигурацияланған е...\n",
       "674  Аудан жерімен Жақсы Қарғалы ,  <word>Ор</word>...\n",
       "675  Ауыл 1962 – 96 ж . етті ірі қара мал өсіретін ...\n",
       "676  Мұхаммедтің толық аты былай : Әбул Қасым Мұхам...\n",
       "\n",
       "[677 rows x 1 columns]"
      ]
     },
     "execution_count": 10,
     "metadata": {},
     "output_type": "execute_result"
    }
   ],
   "source": [
    "df_1 = pd.read_csv('../data/kk/kk.tsv', sep='\\t')\n",
    "df_1 = df_1['context1'].to_frame()\n",
    "df_1"
   ]
  },
  {
   "cell_type": "code",
   "execution_count": 23,
   "id": "4bccf08f",
   "metadata": {},
   "outputs": [
    {
     "data": {
      "text/plain": [
       "'аудан жерімен жақсы қарғалы  wordорword'"
      ]
     },
     "execution_count": 23,
     "metadata": {},
     "output_type": "execute_result"
    }
   ],
   "source": [
    "regex = re.compile('[^a-zA-Z]')\n",
    "regex.sub('', 'Теңіз ірбісі , теңіз қабыланы () – нағыз итбал')\n",
    "''.join([i for i in 'Теңіз ірбісі , теңіз қабыланы () – нағыз итбал' if (i.isalpha() or i==' ')]).lower()\n",
    "\n",
    "def char_clean(s):\n",
    "    return ''.join([i for i in s if (i.isalpha() or i==' ')]).lower()\n",
    "\n",
    "char_clean('Аудан жерімен Жақсы Қарғалы , <word>Ор</word>.')"
   ]
  },
  {
   "cell_type": "code",
   "execution_count": 27,
   "id": "6e5dbc0c",
   "metadata": {},
   "outputs": [
    {
     "data": {
      "text/plain": [
       "'аудан жерімен жақсы қарғалы  ор'"
      ]
     },
     "execution_count": 27,
     "metadata": {},
     "output_type": "execute_result"
    }
   ],
   "source": [
    "\n",
    "\n",
    "char_clean(remove_word('Аудан жерімен def remove_word(s):\n",
    "    tmp_lst = s.split('word')\n",
    "    output = ''.join(tmp_lst)\n",
    "    return outputЖақсы Қарғалы , <word>Ор</word>'))"
   ]
  },
  {
   "cell_type": "code",
   "execution_count": 28,
   "id": "5fcbe346",
   "metadata": {},
   "outputs": [
    {
     "data": {
      "text/html": [
       "<div>\n",
       "<style scoped>\n",
       "    .dataframe tbody tr th:only-of-type {\n",
       "        vertical-align: middle;\n",
       "    }\n",
       "\n",
       "    .dataframe tbody tr th {\n",
       "        vertical-align: top;\n",
       "    }\n",
       "\n",
       "    .dataframe thead th {\n",
       "        text-align: right;\n",
       "    }\n",
       "</style>\n",
       "<table border=\"1\" class=\"dataframe\">\n",
       "  <thead>\n",
       "    <tr style=\"text-align: right;\">\n",
       "      <th></th>\n",
       "      <th>context1</th>\n",
       "    </tr>\n",
       "  </thead>\n",
       "  <tbody>\n",
       "    <tr>\n",
       "      <th>0</th>\n",
       "      <td>өркен  өсімдіктің негізгі бөлігі  сабақтан жән...</td>\n",
       "    </tr>\n",
       "    <tr>\n",
       "      <th>1</th>\n",
       "      <td>осы зиянкестердің санын бірден  бір негізгі ре...</td>\n",
       "    </tr>\n",
       "    <tr>\n",
       "      <th>2</th>\n",
       "      <td>олар   вокал студиясы   ағылшын тілінде драма ...</td>\n",
       "    </tr>\n",
       "    <tr>\n",
       "      <th>3</th>\n",
       "      <td>хайльбронн   германия ауданы  аудан орталығы  ...</td>\n",
       "    </tr>\n",
       "    <tr>\n",
       "      <th>4</th>\n",
       "      <td>теңіз ірбісі  теңіз қабыланы   нағыз итбалықта...</td>\n",
       "    </tr>\n",
       "    <tr>\n",
       "      <th>...</th>\n",
       "      <td>...</td>\n",
       "    </tr>\n",
       "    <tr>\n",
       "      <th>672</th>\n",
       "      <td>құрмет белгісі     ii дәрежелі   достық     i...</td>\n",
       "    </tr>\n",
       "    <tr>\n",
       "      <th>673</th>\n",
       "      <td>cloud computing  қажетті конфигурацияланған ес...</td>\n",
       "    </tr>\n",
       "    <tr>\n",
       "      <th>674</th>\n",
       "      <td>аудан жерімен жақсы қарғалы   ор  қызылқайың  ...</td>\n",
       "    </tr>\n",
       "    <tr>\n",
       "      <th>675</th>\n",
       "      <td>ауыл    ж  етті ірі қара мал өсіретін кеңшарды...</td>\n",
       "    </tr>\n",
       "    <tr>\n",
       "      <th>676</th>\n",
       "      <td>мұхаммедтің толық аты былай  әбул қасым мұхамм...</td>\n",
       "    </tr>\n",
       "  </tbody>\n",
       "</table>\n",
       "<p>677 rows × 1 columns</p>\n",
       "</div>"
      ],
      "text/plain": [
       "                                              context1\n",
       "0    өркен  өсімдіктің негізгі бөлігі  сабақтан жән...\n",
       "1    осы зиянкестердің санын бірден  бір негізгі ре...\n",
       "2    олар   вокал студиясы   ағылшын тілінде драма ...\n",
       "3    хайльбронн   германия ауданы  аудан орталығы  ...\n",
       "4    теңіз ірбісі  теңіз қабыланы   нағыз итбалықта...\n",
       "..                                                 ...\n",
       "672   құрмет белгісі     ii дәрежелі   достық     i...\n",
       "673  cloud computing  қажетті конфигурацияланған ес...\n",
       "674  аудан жерімен жақсы қарғалы   ор  қызылқайың  ...\n",
       "675  ауыл    ж  етті ірі қара мал өсіретін кеңшарды...\n",
       "676  мұхаммедтің толық аты былай  әбул қасым мұхамм...\n",
       "\n",
       "[677 rows x 1 columns]"
      ]
     },
     "execution_count": 28,
     "metadata": {},
     "output_type": "execute_result"
    }
   ],
   "source": [
    "df_1['context1'] = df_1['context1'].map(remove_word)\n",
    "df_1['context1'] = df_1['context1'].map(char_clean)\n",
    "df_1"
   ]
  },
  {
   "cell_type": "code",
   "execution_count": 33,
   "id": "5d3eeb94",
   "metadata": {},
   "outputs": [
    {
     "data": {
      "text/html": [
       "<div>\n",
       "<style scoped>\n",
       "    .dataframe tbody tr th:only-of-type {\n",
       "        vertical-align: middle;\n",
       "    }\n",
       "\n",
       "    .dataframe tbody tr th {\n",
       "        vertical-align: top;\n",
       "    }\n",
       "\n",
       "    .dataframe thead th {\n",
       "        text-align: right;\n",
       "    }\n",
       "</style>\n",
       "<table border=\"1\" class=\"dataframe\">\n",
       "  <thead>\n",
       "    <tr style=\"text-align: right;\">\n",
       "      <th></th>\n",
       "      <th>context1</th>\n",
       "    </tr>\n",
       "  </thead>\n",
       "  <tbody>\n",
       "    <tr>\n",
       "      <th>0</th>\n",
       "      <td>өркен  өсімдіктің негізгі бөлігі  сабақтан жән...</td>\n",
       "    </tr>\n",
       "    <tr>\n",
       "      <th>1</th>\n",
       "      <td>осы зиянкестердің санын бірден  бір негізгі ре...</td>\n",
       "    </tr>\n",
       "    <tr>\n",
       "      <th>2</th>\n",
       "      <td>олар   вокал студиясы   ағылшын тілінде драма ...</td>\n",
       "    </tr>\n",
       "    <tr>\n",
       "      <th>3</th>\n",
       "      <td>хайльбронн   германия ауданы  аудан орталығы  ...</td>\n",
       "    </tr>\n",
       "    <tr>\n",
       "      <th>4</th>\n",
       "      <td>теңіз ірбісі  теңіз қабыланы   нағыз итбалықта...</td>\n",
       "    </tr>\n",
       "    <tr>\n",
       "      <th>...</th>\n",
       "      <td>...</td>\n",
       "    </tr>\n",
       "    <tr>\n",
       "      <th>672</th>\n",
       "      <td>құрмет белгісі     ii дәрежелі   достық     i...</td>\n",
       "    </tr>\n",
       "    <tr>\n",
       "      <th>673</th>\n",
       "      <td>cloud computing  қажетті конфигурацияланған ес...</td>\n",
       "    </tr>\n",
       "    <tr>\n",
       "      <th>674</th>\n",
       "      <td>аудан жерімен жақсы қарғалы   ор  қызылқайың  ...</td>\n",
       "    </tr>\n",
       "    <tr>\n",
       "      <th>675</th>\n",
       "      <td>ауыл    ж  етті ірі қара мал өсіретін кеңшарды...</td>\n",
       "    </tr>\n",
       "    <tr>\n",
       "      <th>676</th>\n",
       "      <td>мұхаммедтің толық аты былай  әбул қасым мұхамм...</td>\n",
       "    </tr>\n",
       "  </tbody>\n",
       "</table>\n",
       "<p>677 rows × 1 columns</p>\n",
       "</div>"
      ],
      "text/plain": [
       "                                              context1\n",
       "0    өркен  өсімдіктің негізгі бөлігі  сабақтан жән...\n",
       "1    осы зиянкестердің санын бірден  бір негізгі ре...\n",
       "2    олар   вокал студиясы   ағылшын тілінде драма ...\n",
       "3    хайльбронн   германия ауданы  аудан орталығы  ...\n",
       "4    теңіз ірбісі  теңіз қабыланы   нағыз итбалықта...\n",
       "..                                                 ...\n",
       "672   құрмет белгісі     ii дәрежелі   достық     i...\n",
       "673  cloud computing  қажетті конфигурацияланған ес...\n",
       "674  аудан жерімен жақсы қарғалы   ор  қызылқайың  ...\n",
       "675  ауыл    ж  етті ірі қара мал өсіретін кеңшарды...\n",
       "676  мұхаммедтің толық аты былай  әбул қасым мұхамм...\n",
       "\n",
       "[677 rows x 1 columns]"
      ]
     },
     "execution_count": 33,
     "metadata": {},
     "output_type": "execute_result"
    }
   ],
   "source": [
    "label = [1]*len(df_1)\n",
    "df_1['y']=label\n",
    "df_1 = df_1.drop(columns='y')\n",
    "df_1"
   ]
  },
  {
   "cell_type": "code",
   "execution_count": 35,
   "id": "18a1eb65",
   "metadata": {},
   "outputs": [],
   "source": [
    "file1 = open('../data/kk/kk_book.txt', 'r')\n",
    "Lines = file1.readlines()"
   ]
  },
  {
   "cell_type": "code",
   "execution_count": 38,
   "id": "cff84838",
   "metadata": {},
   "outputs": [],
   "source": [
    "def remove_substr(s, substr):\n",
    "    tmp_lst = s.split(substr)\n",
    "    output = ''.join(tmp_lst)\n",
    "    return output"
   ]
  },
  {
   "cell_type": "code",
   "execution_count": 44,
   "id": "53a5719b",
   "metadata": {},
   "outputs": [],
   "source": [
    "data_2 = [remove_substr(a, '\\t') for a in Lines]\n",
    "data_2 = [remove_substr(a, '\\n') for a in data_2]\n",
    "data_2 = [char_clean(a) for a in data_2]"
   ]
  },
  {
   "cell_type": "code",
   "execution_count": 47,
   "id": "63f0c7a6",
   "metadata": {},
   "outputs": [],
   "source": [
    "df_2 = pd.DataFrame({'context1': data_2})"
   ]
  },
  {
   "cell_type": "code",
   "execution_count": 51,
   "id": "2e02c668",
   "metadata": {},
   "outputs": [],
   "source": [
    "file2 = open('../data/kk/book2.txt', 'r')\n",
    "Lines = file2.readlines()\n",
    "data_3 = [remove_substr(a, '\\t') for a in Lines]\n",
    "data_3 = [remove_substr(a, '\\n') for a in data_3]\n",
    "data_3 = [char_clean(a) for a in data_3]\n",
    "df_3 = pd.DataFrame({'context1': data_3})"
   ]
  },
  {
   "cell_type": "code",
   "execution_count": 61,
   "id": "14db9e6e",
   "metadata": {},
   "outputs": [
    {
     "data": {
      "text/plain": [
       "4395"
      ]
     },
     "execution_count": 61,
     "metadata": {},
     "output_type": "execute_result"
    }
   ],
   "source": [
    "df = pd.concat([df_1, df_2, df_3])\n",
    "labels = [1]*len(df)\n",
    "df['y'] = labels\n",
    "len(labels)"
   ]
  },
  {
   "cell_type": "code",
   "execution_count": 55,
   "id": "6f628e1f",
   "metadata": {},
   "outputs": [],
   "source": [
    "df.to_csv('kk_final.csv', index=False)"
   ]
  },
  {
   "cell_type": "code",
   "execution_count": 60,
   "id": "539a2f14",
   "metadata": {},
   "outputs": [
    {
     "data": {
      "text/html": [
       "<div>\n",
       "<style scoped>\n",
       "    .dataframe tbody tr th:only-of-type {\n",
       "        vertical-align: middle;\n",
       "    }\n",
       "\n",
       "    .dataframe tbody tr th {\n",
       "        vertical-align: top;\n",
       "    }\n",
       "\n",
       "    .dataframe thead th {\n",
       "        text-align: right;\n",
       "    }\n",
       "</style>\n",
       "<table border=\"1\" class=\"dataframe\">\n",
       "  <thead>\n",
       "    <tr style=\"text-align: right;\">\n",
       "      <th></th>\n",
       "      <th>context1</th>\n",
       "      <th>y</th>\n",
       "    </tr>\n",
       "  </thead>\n",
       "  <tbody>\n",
       "    <tr>\n",
       "      <th>0</th>\n",
       "      <td>радиостанция  финам fm  вещала в москве и моск...</td>\n",
       "      <td>0</td>\n",
       "    </tr>\n",
       "    <tr>\n",
       "      <th>1</th>\n",
       "      <td>июня  на slammiversary  мэтт был побежден дже...</td>\n",
       "      <td>0</td>\n",
       "    </tr>\n",
       "    <tr>\n",
       "      <th>2</th>\n",
       "      <td>в арктической и тундровой зоне встречаются бел...</td>\n",
       "      <td>0</td>\n",
       "    </tr>\n",
       "    <tr>\n",
       "      <th>3</th>\n",
       "      <td>элемент преступления    дебютный полнометражн...</td>\n",
       "      <td>0</td>\n",
       "    </tr>\n",
       "    <tr>\n",
       "      <th>4</th>\n",
       "      <td>в  году в анадыре вводится в работу коммунальн...</td>\n",
       "      <td>0</td>\n",
       "    </tr>\n",
       "    <tr>\n",
       "      <th>...</th>\n",
       "      <td>...</td>\n",
       "      <td>...</td>\n",
       "    </tr>\n",
       "    <tr>\n",
       "      <th>4995</th>\n",
       "      <td>труд андрея ивановича богданова  историческое ...</td>\n",
       "      <td>0</td>\n",
       "    </tr>\n",
       "    <tr>\n",
       "      <th>4996</th>\n",
       "      <td>обели  кс   от  обелиск  типографская пометка ...</td>\n",
       "      <td>0</td>\n",
       "    </tr>\n",
       "    <tr>\n",
       "      <th>4997</th>\n",
       "      <td>одноранговая связь  простейший случай взаимоде...</td>\n",
       "      <td>0</td>\n",
       "    </tr>\n",
       "    <tr>\n",
       "      <th>4998</th>\n",
       "      <td>получив возможность выезда с гастролями загран...</td>\n",
       "      <td>0</td>\n",
       "    </tr>\n",
       "    <tr>\n",
       "      <th>4999</th>\n",
       "      <td>в  году в сотрудничестве с аргоннской лаборато...</td>\n",
       "      <td>0</td>\n",
       "    </tr>\n",
       "  </tbody>\n",
       "</table>\n",
       "<p>5000 rows × 2 columns</p>\n",
       "</div>"
      ],
      "text/plain": [
       "                                               context1  y\n",
       "0     радиостанция  финам fm  вещала в москве и моск...  0\n",
       "1      июня  на slammiversary  мэтт был побежден дже...  0\n",
       "2     в арктической и тундровой зоне встречаются бел...  0\n",
       "3      элемент преступления    дебютный полнометражн...  0\n",
       "4     в  году в анадыре вводится в работу коммунальн...  0\n",
       "...                                                 ... ..\n",
       "4995  труд андрея ивановича богданова  историческое ...  0\n",
       "4996  обели  кс   от  обелиск  типографская пометка ...  0\n",
       "4997  одноранговая связь  простейший случай взаимоде...  0\n",
       "4998  получив возможность выезда с гастролями загран...  0\n",
       "4999  в  году в сотрудничестве с аргоннской лаборато...  0\n",
       "\n",
       "[5000 rows x 2 columns]"
      ]
     },
     "execution_count": 60,
     "metadata": {},
     "output_type": "execute_result"
    }
   ],
   "source": [
    "df_ru = pd.read_csv('../data/ru/dev_larger.tsv', sep='\\t')\n",
    "df_ru = df_ru['context1'].to_frame()\n",
    "df_ru['context1'] = df_ru['context1'].map(remove_word)\n",
    "df_ru['context1'] = df_ru['context1'].map(char_clean)\n",
    "df_ru['y'] = [0]*len(df_ru)\n",
    "df_ru"
   ]
  },
  {
   "cell_type": "code",
   "execution_count": 62,
   "id": "91f06dfa",
   "metadata": {},
   "outputs": [],
   "source": [
    "df_ru.to_csv('ru_final.csv', index=False)"
   ]
  },
  {
   "cell_type": "code",
   "execution_count": 65,
   "id": "2bb2b2eb",
   "metadata": {},
   "outputs": [],
   "source": [
    "final = pd.concat([df, df_ru])"
   ]
  },
  {
   "cell_type": "code",
   "execution_count": 70,
   "id": "982c8b74",
   "metadata": {},
   "outputs": [],
   "source": [
    "from sklearn.utils import shuffle\n",
    "final = shuffle(final)\n"
   ]
  },
  {
   "cell_type": "code",
   "execution_count": null,
   "id": "56f88aeb",
   "metadata": {},
   "outputs": [],
   "source": [
    "final.to_csv('final.csv', index=False)"
   ]
  }
 ],
 "metadata": {
  "kernelspec": {
   "display_name": "Python 3 (ipykernel)",
   "language": "python",
   "name": "python3"
  },
  "language_info": {
   "codemirror_mode": {
    "name": "ipython",
    "version": 3
   },
   "file_extension": ".py",
   "mimetype": "text/x-python",
   "name": "python",
   "nbconvert_exporter": "python",
   "pygments_lexer": "ipython3",
   "version": "3.8.10"
  }
 },
 "nbformat": 4,
 "nbformat_minor": 5
}
